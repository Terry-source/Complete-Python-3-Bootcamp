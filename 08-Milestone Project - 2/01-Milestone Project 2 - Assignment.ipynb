{
 "cells": [
  {
   "cell_type": "markdown",
   "metadata": {},
   "source": [
    "# Milestone Project 2 - Blackjack Game\n",
    "In this milestone project you will be creating a Complete BlackJack Card Game in Python.\n",
    "\n",
    "Here are the requirements:\n",
    "\n",
    "* You need to create a simple text-based [BlackJack](https://en.wikipedia.org/wiki/Blackjack) game\n",
    "* The game needs to have one player versus an automated dealer.\n",
    "* The player can stand or hit.\n",
    "* The player must be able to pick their betting amount.\n",
    "* You need to keep track of the player's total money.\n",
    "* You need to alert the player of wins, losses, or busts, etc...\n",
    "\n",
    "And most importantly:\n",
    "\n",
    "* **You must use OOP and classes in some portion of your game. You can not just use functions in your game. Use classes to help you define the Deck and the Player's hand. There are many right ways to do this, so explore it well!**\n",
    "\n",
    "\n",
    "Feel free to expand this game. Try including multiple players. Try adding in Double-Down and card splits! Remember to you are free to use any resources you want and as always:\n",
    "\n",
    "# HAVE FUN!"
   ]
  },
  {
   "cell_type": "code",
   "execution_count": 11,
   "metadata": {},
   "outputs": [],
   "source": [
    "import random\n",
    "\n",
    "suits = ('Hearts', 'Diamonds', 'Spades', 'Clubs')\n",
    "ranks = ('Two', 'Three', 'Four', 'Five', 'Six', 'Seven', 'Eight', 'Nine', 'Ten', 'Jack', 'Queen', 'King', 'Ace')\n",
    "values = {'Two':2, 'Three':3, 'Four':4, 'Five':5, 'Six':6, 'Seven':7, 'Eight':8, 'Nine':9, 'Ten':10, 'Jack':10,\n",
    "         'Queen':10, 'King':10, 'Ace':11}\n",
    "\n",
    "playing = True\n",
    "\n",
    "class Card():\n",
    "    def __init__(self, suit, rank):\n",
    "        self.suit = suit\n",
    "        self.rank = rank\n",
    "\n",
    "    def __str__(self):\n",
    "        return self.rank + \" of \" + self.suit\n",
    "\n",
    "class Deck():\n",
    "    def __init__(self):\n",
    "        self.deck = []\n",
    "\n",
    "        for suit in suits:\n",
    "            for rank in ranks:\n",
    "\n",
    "                self.deck.append(Card(suit,rank))\n",
    "\n",
    "    def __str__(self):\n",
    "        deck_comp = ''\n",
    "        for card in self.deck:\n",
    "            deck_comp += '\\n ' + card.__str__()\n",
    "        return 'Deck contains: ' + deck_comp\n",
    "\n",
    "    def shuffle(self):\n",
    "        random.shuffle(self.deck)\n",
    "\n",
    "    def deal(self):\n",
    "        single_card = self.deck.pop()\n",
    "        return single_card"
   ]
  },
  {
   "cell_type": "code",
   "execution_count": 14,
   "metadata": {},
   "outputs": [
    {
     "name": "stdout",
     "output_type": "stream",
     "text": [
      "Deck contains: \n",
      " Eight of Hearts\n",
      " Two of Hearts\n",
      " Two of Clubs\n",
      " King of Diamonds\n",
      " Six of Hearts\n",
      " King of Clubs\n",
      " Six of Spades\n",
      " Five of Diamonds\n",
      " Five of Clubs\n",
      " Four of Hearts\n",
      " Seven of Clubs\n",
      " Seven of Spades\n",
      " Six of Clubs\n",
      " Jack of Diamonds\n",
      " Queen of Spades\n",
      " Five of Hearts\n",
      " Nine of Diamonds\n",
      " Ace of Clubs\n",
      " Six of Diamonds\n",
      " Ten of Diamonds\n",
      " Nine of Clubs\n",
      " Ace of Diamonds\n",
      " King of Spades\n",
      " Four of Spades\n",
      " Jack of Hearts\n",
      " Queen of Diamonds\n",
      " Seven of Diamonds\n",
      " Jack of Spades\n",
      " Eight of Clubs\n",
      " Three of Hearts\n",
      " Queen of Clubs\n",
      " Eight of Diamonds\n",
      " Three of Spades\n",
      " Eight of Spades\n",
      " Five of Spades\n",
      " Two of Diamonds\n",
      " Seven of Hearts\n",
      " Nine of Spades\n",
      " Ten of Clubs\n",
      " Ace of Hearts\n",
      " Ten of Hearts\n",
      " Four of Diamonds\n",
      " Nine of Hearts\n",
      " Queen of Hearts\n",
      " Two of Spades\n",
      " Three of Diamonds\n",
      " Jack of Clubs\n",
      " Three of Clubs\n",
      " Ten of Spades\n",
      " Four of Clubs\n",
      " King of Hearts\n",
      " Ace of Spades\n"
     ]
    }
   ],
   "source": [
    "test_deck = Deck()\n",
    "test_deck.shuffle()\n",
    "print(test_deck)"
   ]
  },
  {
   "cell_type": "code",
   "execution_count": 4,
   "metadata": {},
   "outputs": [],
   "source": [
    "class Chips:\n",
    "\n",
    "        def __init__(self, total = 100):\n",
    "            self.total = total\n",
    "            self.bet = 0\n",
    "\n",
    "        def win_bet(self):\n",
    "            self.total += self.bet\n",
    "\n",
    "        def lose_bet(self):\n",
    "            self.total -= self.bet\n",
    "\n",
    "def take_bet(chips):\n",
    "    while True:\n",
    "        try:\n",
    "            chips.bet = int(input(\"How many chips to bet?: \"))\n",
    "        except ValueError:\n",
    "            print(\"Error, bet must be an integer.\")\n",
    "            # continue\n",
    "        else:\n",
    "            if chips.bet > chips.total:\n",
    "                print(f\"Insufficent funds. {chips.total} chips remain.\")\n",
    "                # continue\n",
    "            elif chips.bet <= 0:\n",
    "                print(\"Error, positive bet required.\")\n",
    "            else:\n",
    "                break"
   ]
  },
  {
   "cell_type": "code",
   "execution_count": 6,
   "metadata": {},
   "outputs": [
    {
     "ename": "NameError",
     "evalue": "name 'chips' is not defined",
     "output_type": "error",
     "traceback": [
      "\u001b[1;31m---------------------------------------------------------------------------\u001b[0m",
      "\u001b[1;31mNameError\u001b[0m                                 Traceback (most recent call last)",
      "\u001b[1;32m<ipython-input-6-bb34401a5fea>\u001b[0m in \u001b[0;36m<module>\u001b[1;34m\u001b[0m\n\u001b[1;32m----> 1\u001b[1;33m \u001b[0mtake_bet\u001b[0m\u001b[1;33m(\u001b[0m\u001b[0mchips\u001b[0m\u001b[1;33m)\u001b[0m\u001b[1;33m\u001b[0m\u001b[1;33m\u001b[0m\u001b[0m\n\u001b[0m",
      "\u001b[1;31mNameError\u001b[0m: name 'chips' is not defined"
     ]
    }
   ],
   "source": [
    "take_bet(chips)"
   ]
  },
  {
   "cell_type": "code",
   "execution_count": null,
   "metadata": {},
   "outputs": [],
   "source": []
  }
 ],
 "metadata": {
  "kernelspec": {
   "display_name": "Python 3",
   "language": "python",
   "name": "python3"
  },
  "language_info": {
   "codemirror_mode": {
    "name": "ipython",
    "version": 3
   },
   "file_extension": ".py",
   "mimetype": "text/x-python",
   "name": "python",
   "nbconvert_exporter": "python",
   "pygments_lexer": "ipython3",
   "version": "3.7.4"
  }
 },
 "nbformat": 4,
 "nbformat_minor": 1
}
