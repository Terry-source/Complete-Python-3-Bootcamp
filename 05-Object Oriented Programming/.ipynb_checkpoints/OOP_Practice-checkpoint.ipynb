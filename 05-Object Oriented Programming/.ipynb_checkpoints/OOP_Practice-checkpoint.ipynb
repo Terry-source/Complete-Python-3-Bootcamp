{
 "cells": [
  {
   "cell_type": "code",
   "execution_count": 22,
   "metadata": {},
   "outputs": [],
   "source": [
    "class Dog:\n",
    "    species = 'mammal'\n",
    "    \n",
    "    def __init__(self, name, age):\n",
    "        self.name = name\n",
    "        self.age = age\n",
    "        \n",
    "    def description(self):\n",
    "        print(f\"{self.name} is {self.age} years old.\")\n",
    "        \n",
    "    def speak(self, sound):\n",
    "        print(f\"{self.name} says {sound}.\")\n",
    "\n",
    "def get_biggest_number(*args):\n",
    "    return max(args)\n",
    "        \n",
    "def show_oldest(*args):\n",
    "    return f\"The oldest dog is {get_biggest_number(*args)} years old.\""
   ]
  },
  {
   "cell_type": "code",
   "execution_count": 31,
   "metadata": {},
   "outputs": [],
   "source": [
    "able = Dog('Able', 1)\n",
    "bob = Dog('Bob', 3)\n",
    "cain = Dog('Cain', 7)"
   ]
  },
  {
   "cell_type": "code",
   "execution_count": 32,
   "metadata": {},
   "outputs": [
    {
     "data": {
      "text/plain": [
       "'The oldest dog is 7 years old.'"
      ]
     },
     "execution_count": 32,
     "metadata": {},
     "output_type": "execute_result"
    }
   ],
   "source": [
    "show_oldest(able.age, bob.age, cain.age)"
   ]
  },
  {
   "cell_type": "code",
   "execution_count": 33,
   "metadata": {},
   "outputs": [],
   "source": [
    "class Pets:\n",
    "    dogs_list = []\n",
    "    \n",
    "    def __init__(self, dogs_list):\n",
    "        self.dogs_list = dogs_list"
   ]
  },
  {
   "cell_type": "code",
   "execution_count": 34,
   "metadata": {},
   "outputs": [
    {
     "data": {
      "text/plain": [
       "<__main__.Pets at 0x21efb097708>"
      ]
     },
     "execution_count": 34,
     "metadata": {},
     "output_type": "execute_result"
    }
   ],
   "source": [
    "my_pets = Pets([able, bob, cain])\n",
    "my_pets"
   ]
  },
  {
   "cell_type": "code",
   "execution_count": 35,
   "metadata": {},
   "outputs": [
    {
     "name": "stdout",
     "output_type": "stream",
     "text": [
      "I have 3 dogs.\n"
     ]
    }
   ],
   "source": [
    "print(f\"I have {len(my_pets.dogs_list)} dogs.\")"
   ]
  },
  {
   "cell_type": "code",
   "execution_count": 36,
   "metadata": {},
   "outputs": [
    {
     "name": "stdout",
     "output_type": "stream",
     "text": [
      "Able is 1 years old.\n",
      "Bob is 3 years old.\n",
      "Cain is 7 years old.\n"
     ]
    }
   ],
   "source": [
    "for dog in my_pets.dogs_list:\n",
    "    print(f\"{dog.name} is {dog.age} years old.\")"
   ]
  },
  {
   "cell_type": "code",
   "execution_count": 37,
   "metadata": {},
   "outputs": [
    {
     "name": "stdout",
     "output_type": "stream",
     "text": [
      "They are all mammals.\n"
     ]
    }
   ],
   "source": [
    "print(f\"They are all {dog.species}s.\")"
   ]
  },
  {
   "cell_type": "code",
   "execution_count": null,
   "metadata": {},
   "outputs": [],
   "source": []
  }
 ],
 "metadata": {
  "kernelspec": {
   "display_name": "Python 3",
   "language": "python",
   "name": "python3"
  },
  "language_info": {
   "codemirror_mode": {
    "name": "ipython",
    "version": 3
   },
   "file_extension": ".py",
   "mimetype": "text/x-python",
   "name": "python",
   "nbconvert_exporter": "python",
   "pygments_lexer": "ipython3",
   "version": "3.7.4"
  }
 },
 "nbformat": 4,
 "nbformat_minor": 2
}
